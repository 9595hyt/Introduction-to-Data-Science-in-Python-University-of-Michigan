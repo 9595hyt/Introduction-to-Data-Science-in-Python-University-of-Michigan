{
  "nbformat": 4,
  "nbformat_minor": 0,
  "metadata": {
    "colab": {
      "provenance": [],
      "authorship_tag": "ABX9TyN96461nO/Rdw9fNOD62xPG",
      "include_colab_link": true
    },
    "kernelspec": {
      "name": "python3",
      "display_name": "Python 3"
    },
    "language_info": {
      "name": "python"
    }
  },
  "cells": [
    {
      "cell_type": "markdown",
      "metadata": {
        "id": "view-in-github",
        "colab_type": "text"
      },
      "source": [
        "<a href=\"https://colab.research.google.com/github/9595hyt/Introduction-to-Data-Science-in-Python-University-of-Michigan/blob/main/Introduction_to_Data_Science_in_Python_University_of_Michigan.ipynb\" target=\"_parent\"><img src=\"https://colab.research.google.com/assets/colab-badge.svg\" alt=\"Open In Colab\"/></a>"
      ]
    },
    {
      "cell_type": "code",
      "execution_count": 23,
      "metadata": {
        "id": "wdYR3Qal508Q"
      },
      "outputs": [],
      "source": []
    },
    {
      "cell_type": "markdown",
      "source": [
        "# 1.1.2 intro\n"
      ],
      "metadata": {
        "id": "srZviCa87PNK"
      }
    },
    {
      "cell_type": "code",
      "source": [
        "print('python specialization from michigan university')"
      ],
      "metadata": {
        "colab": {
          "base_uri": "https://localhost:8080/"
        },
        "id": "9g30oa-d7bbz",
        "outputId": "423569a8-f959-4db6-ee29-35d2c10dc6c1"
      },
      "execution_count": 24,
      "outputs": [
        {
          "output_type": "stream",
          "name": "stdout",
          "text": [
            "python specialization from michigan university\n"
          ]
        }
      ]
    },
    {
      "cell_type": "code",
      "source": [
        "x=5\n",
        "print(x+1)"
      ],
      "metadata": {
        "colab": {
          "base_uri": "https://localhost:8080/"
        },
        "id": "U1Pk5cYX7q-u",
        "outputId": "87a1e419-12ab-4ae4-9e6a-e8305200c0e4"
      },
      "execution_count": 25,
      "outputs": [
        {
          "output_type": "stream",
          "name": "stdout",
          "text": [
            "6\n"
          ]
        }
      ]
    },
    {
      "cell_type": "code",
      "source": [
        "i=1\n",
        "while i<100:\n",
        "    i=1"
      ],
      "metadata": {
        "colab": {
          "base_uri": "https://localhost:8080/",
          "height": 204
        },
        "id": "GpDy6Y3B7wQU",
        "outputId": "793971a1-e168-424c-8c02-b53080ad2039"
      },
      "execution_count": 26,
      "outputs": [
        {
          "output_type": "error",
          "ename": "KeyboardInterrupt",
          "evalue": "ignored",
          "traceback": [
            "\u001b[0;31m---------------------------------------------------------------------------\u001b[0m",
            "\u001b[0;31mKeyboardInterrupt\u001b[0m                         Traceback (most recent call last)",
            "\u001b[0;32m<ipython-input-26-8d5307e3983a>\u001b[0m in \u001b[0;36m<cell line: 2>\u001b[0;34m()\u001b[0m\n\u001b[1;32m      1\u001b[0m \u001b[0mi\u001b[0m\u001b[0;34m=\u001b[0m\u001b[0;36m1\u001b[0m\u001b[0;34m\u001b[0m\u001b[0;34m\u001b[0m\u001b[0m\n\u001b[0;32m----> 2\u001b[0;31m \u001b[0;32mwhile\u001b[0m \u001b[0mi\u001b[0m\u001b[0;34m<\u001b[0m\u001b[0;36m100\u001b[0m\u001b[0;34m:\u001b[0m\u001b[0;34m\u001b[0m\u001b[0;34m\u001b[0m\u001b[0m\n\u001b[0m\u001b[1;32m      3\u001b[0m     \u001b[0mi\u001b[0m\u001b[0;34m=\u001b[0m\u001b[0;36m1\u001b[0m\u001b[0;34m\u001b[0m\u001b[0;34m\u001b[0m\u001b[0m\n",
            "\u001b[0;31mKeyboardInterrupt\u001b[0m: "
          ]
        }
      ]
    },
    {
      "cell_type": "markdown",
      "source": [
        "#BIG HEADING\n",
        "__SPECIAL TEXT__\n"
      ],
      "metadata": {
        "id": "zIOppJjc8HDp"
      }
    },
    {
      "cell_type": "code",
      "source": [
        "ls\n"
      ],
      "metadata": {
        "id": "mokpzSmu8NEb"
      },
      "execution_count": null,
      "outputs": []
    },
    {
      "cell_type": "markdown",
      "source": [
        "#big\n",
        "##medium\n",
        "###small\n",
        "####tiny\n",
        "#####very tiny\n"
      ],
      "metadata": {
        "id": "bv24sVHw8cPf"
      }
    },
    {
      "cell_type": "code",
      "source": [
        "print(\"world\")\n"
      ],
      "metadata": {
        "id": "fSRAawI2-5qH"
      },
      "execution_count": null,
      "outputs": []
    },
    {
      "cell_type": "code",
      "source": [
        "\n",
        "In [1]: a = 5\n",
        "\n",
        "In [2]: a\n",
        "Out[2]: 5\n"
      ],
      "metadata": {
        "id": "WweccHTJ-_wV"
      },
      "execution_count": null,
      "outputs": []
    },
    {
      "cell_type": "code",
      "source": [
        "import numpy as np\n",
        "\n",
        "data = [np.random_normal() for i in range (7)]\n",
        "print(data)\n"
      ],
      "metadata": {
        "id": "HeeqAUyL_KvS"
      },
      "execution_count": null,
      "outputs": []
    },
    {
      "cell_type": "code",
      "source": [
        "x = 1\n",
        "y=2\n",
        "x+y"
      ],
      "metadata": {
        "id": "iivE8-uQAxII"
      },
      "execution_count": null,
      "outputs": []
    },
    {
      "cell_type": "code",
      "source": [
        "i=2\n",
        "print (i+4)"
      ],
      "metadata": {
        "id": "ubl1VM5JA5Vm"
      },
      "execution_count": null,
      "outputs": []
    },
    {
      "cell_type": "code",
      "source": [
        "def add_numbers(x,y,2):\n",
        "  return x+y+2\n",
        "\n",
        "print(add_numbers(1,2,2))"
      ],
      "metadata": {
        "id": "l1qL1bEKBJQE"
      },
      "execution_count": null,
      "outputs": []
    },
    {
      "cell_type": "code",
      "source": [
        "def add_numbers(x,y,z):\n",
        "  return x+y+z\n",
        "print (add_numbers(1,2,3))"
      ],
      "metadata": {
        "id": "MS7ithX-Be_l"
      },
      "execution_count": null,
      "outputs": []
    },
    {
      "cell_type": "code",
      "source": [
        "def add_numbers(x,y, z=None):\n",
        "  return x+y+z\n",
        "add_numbers(1,2,3)"
      ],
      "metadata": {
        "id": "i6XIvXsfB2S0"
      },
      "execution_count": null,
      "outputs": []
    },
    {
      "cell_type": "code",
      "source": [
        "def add_numbers(x,y,z=None):\n",
        "  if (z==None):\n",
        "    return x+y\n",
        "  else:\n",
        "    return x+y+z\n",
        "\n",
        "print(add_numbers(1,2))\n",
        "print(add_numbers(1,2,3))"
      ],
      "metadata": {
        "id": "WOgpWmF3CLvd"
      },
      "execution_count": null,
      "outputs": []
    },
    {
      "cell_type": "code",
      "source": [
        "def add_numbers(x,y,z=None, flag=False):\n",
        "  if(flag):\n",
        "    print('Flag is true')\n",
        "  if(z==None):\n",
        "    return x+y\n",
        "  else:\n",
        "    return x+y+z\n",
        "\n",
        "print(add_numbers(1,2,flag=True))"
      ],
      "metadata": {
        "id": "Urekwl2uCts_"
      },
      "execution_count": null,
      "outputs": []
    },
    {
      "cell_type": "code",
      "source": [
        "def do_math(a,b,kind='add'):\n",
        "  if (kind=='add'):\n",
        "    return a+b\n",
        "  else:\n",
        "    return a-b\n",
        "\n",
        "do_math(1,2)\n"
      ],
      "metadata": {
        "id": "dl56oYmtDcFZ"
      },
      "execution_count": null,
      "outputs": []
    },
    {
      "cell_type": "code",
      "source": [
        "x=(1,'a',2,'b')\n",
        "type(x)"
      ],
      "metadata": {
        "id": "n927_JODEeLN"
      },
      "execution_count": null,
      "outputs": []
    },
    {
      "cell_type": "code",
      "source": [
        "x=[1,'a',2,'b']\n",
        "  x.append(33)\n",
        "\n"
      ],
      "metadata": {
        "id": "r8xWKF8OEnrX"
      },
      "execution_count": null,
      "outputs": []
    },
    {
      "cell_type": "code",
      "source": [
        "x=[1,2,3]\n",
        "x.append(3)\n",
        "print(x)"
      ],
      "metadata": {
        "id": "0GpXWNRbfsEb"
      },
      "execution_count": null,
      "outputs": []
    },
    {
      "cell_type": "code",
      "source": [
        "for item in x:\n",
        "  print (item)"
      ],
      "metadata": {
        "id": "aASaBEe1SJPP"
      },
      "execution_count": null,
      "outputs": []
    },
    {
      "cell_type": "code",
      "source": [
        "i=0\n",
        "while (i != len(x)):\n",
        "  print(x(i))\n",
        "  i=i+1"
      ],
      "metadata": {
        "id": "QTfSOXJPf57r"
      },
      "execution_count": null,
      "outputs": []
    },
    {
      "cell_type": "code",
      "source": [
        "x='this is a string'\n",
        "print(x[0])\n",
        "print(x[0:2])"
      ],
      "metadata": {
        "id": "V3_c1lhyglkl"
      },
      "execution_count": null,
      "outputs": []
    },
    {
      "cell_type": "code",
      "source": [
        "x[-1]\n"
      ],
      "metadata": {
        "id": "UINr2mthgz73"
      },
      "execution_count": null,
      "outputs": []
    },
    {
      "cell_type": "code",
      "source": [
        "x[:3]"
      ],
      "metadata": {
        "id": "iWNVV3XMg9e7"
      },
      "execution_count": null,
      "outputs": []
    },
    {
      "cell_type": "code",
      "source": [
        "firstname='Christopher'\n",
        "lastname='Brooks'\n",
        "\n",
        "print(firstname + ' '+lastname)\n",
        "print(firstname*3)\n",
        "print('chris' in firstname)"
      ],
      "metadata": {
        "id": "olBQ1gLZhaHn"
      },
      "execution_count": null,
      "outputs": []
    },
    {
      "cell_type": "code",
      "source": [
        "firstname='Christopher Arthur Yh'.split(' ')[0]\n",
        "lastname='Christore Arthr YH'.split(' ')[-1]\n",
        "print(firstname + ' '+lastname)"
      ],
      "metadata": {
        "id": "H5gNOVAZhxOw"
      },
      "execution_count": null,
      "outputs": []
    },
    {
      "cell_type": "code",
      "source": [
        "x={'ting':'tingleib@xnomad.co','yue':'yuleib@xnomad.co'}\n",
        "x['ting']"
      ],
      "metadata": {
        "id": "_pp4n3kdiwqm"
      },
      "execution_count": null,
      "outputs": []
    },
    {
      "cell_type": "code",
      "source": [
        "x['hu']=None\n",
        "x['hu']"
      ],
      "metadata": {
        "id": "H1ioN45TjFFP"
      },
      "execution_count": null,
      "outputs": []
    },
    {
      "cell_type": "code",
      "source": [
        "for name in x:\n",
        "  print (x[name])"
      ],
      "metadata": {
        "id": "FKrWP00ejNL_"
      },
      "execution_count": null,
      "outputs": []
    },
    {
      "cell_type": "code",
      "source": [
        "for email in x.values():\n",
        "  print(email)"
      ],
      "metadata": {
        "id": "Umq2o5n7jUQU"
      },
      "execution_count": null,
      "outputs": []
    },
    {
      "cell_type": "code",
      "source": [
        "for name, email in x.items():\n",
        "  print(name)\n",
        "  print(email)"
      ],
      "metadata": {
        "id": "zFMpieiojdWo"
      },
      "execution_count": null,
      "outputs": []
    },
    {
      "cell_type": "code",
      "source": [
        "x=('yue','ting','ting@xnomad.co')\n",
        "fname, lname, email=x"
      ],
      "metadata": {
        "id": "1JqWxSiJjmCv"
      },
      "execution_count": null,
      "outputs": []
    },
    {
      "cell_type": "code",
      "source": [],
      "metadata": {
        "id": "8MSWhv_vyrfb"
      },
      "execution_count": null,
      "outputs": []
    },
    {
      "cell_type": "code",
      "source": [
        "\n",
        "fname"
      ],
      "metadata": {
        "id": "S5K2S9pbj3eO"
      },
      "execution_count": null,
      "outputs": []
    },
    {
      "cell_type": "code",
      "source": [
        "lname"
      ],
      "metadata": {
        "id": "TuTtVdy8j9HJ"
      },
      "execution_count": null,
      "outputs": []
    },
    {
      "cell_type": "code",
      "source": [
        "x"
      ],
      "metadata": {
        "id": "Y-FrzYo9j-XI"
      },
      "execution_count": null,
      "outputs": []
    },
    {
      "cell_type": "code",
      "source": [
        "sales_record={'price':3.24,\n",
        "              'num_items':4,\n",
        "              'person':'chris'}\n",
        "sales_statement ='{}bought{} items at a price of {} each for a total of {}'\n",
        "\n",
        "print(sales_statement.format(sales_record['person'],\n",
        "                             sales_record['num_items'],\n",
        "                             sales_record['price'],\n",
        "                             sales_record['num_items']*sales_record['price']))"
      ],
      "metadata": {
        "id": "Px8ywZBKytAq"
      },
      "execution_count": null,
      "outputs": []
    },
    {
      "cell_type": "code",
      "source": [
        "import datetime as dt\n",
        "import time as tm"
      ],
      "metadata": {
        "id": "YAf6OAob1pUN"
      },
      "execution_count": null,
      "outputs": []
    },
    {
      "cell_type": "code",
      "source": [
        "tm.time()"
      ],
      "metadata": {
        "id": "gAMXdELY3En3"
      },
      "execution_count": null,
      "outputs": []
    },
    {
      "cell_type": "code",
      "source": [
        "dtnow =dt.datetime.fromtimetstamp(tm.time())\n",
        "dtnow"
      ],
      "metadata": {
        "id": "ki43OIs-3G2n"
      },
      "execution_count": null,
      "outputs": []
    },
    {
      "cell_type": "code",
      "source": [
        "delta = ft.timedelta(days=100)\n",
        "delta"
      ],
      "metadata": {
        "colab": {
          "base_uri": "https://localhost:8080/",
          "height": 187
        },
        "id": "4jeQSjV93kUR",
        "outputId": "46ddc4b4-4723-4e42-c806-c9bf965e959f"
      },
      "execution_count": 11,
      "outputs": [
        {
          "output_type": "error",
          "ename": "NameError",
          "evalue": "ignored",
          "traceback": [
            "\u001b[0;31m---------------------------------------------------------------------------\u001b[0m",
            "\u001b[0;31mNameError\u001b[0m                                 Traceback (most recent call last)",
            "\u001b[0;32m<ipython-input-11-fbd60237059e>\u001b[0m in \u001b[0;36m<cell line: 1>\u001b[0;34m()\u001b[0m\n\u001b[0;32m----> 1\u001b[0;31m \u001b[0mdelta\u001b[0m \u001b[0;34m=\u001b[0m \u001b[0mft\u001b[0m\u001b[0;34m.\u001b[0m\u001b[0mtimedelta\u001b[0m\u001b[0;34m(\u001b[0m\u001b[0mdays\u001b[0m\u001b[0;34m=\u001b[0m\u001b[0;36m100\u001b[0m\u001b[0;34m)\u001b[0m\u001b[0;34m\u001b[0m\u001b[0;34m\u001b[0m\u001b[0m\n\u001b[0m\u001b[1;32m      2\u001b[0m \u001b[0mdelta\u001b[0m\u001b[0;34m\u001b[0m\u001b[0;34m\u001b[0m\u001b[0m\n",
            "\u001b[0;31mNameError\u001b[0m: name 'ft' is not defined"
          ]
        }
      ]
    },
    {
      "cell_type": "code",
      "source": [
        "class Person:\n",
        "  department ='School of IT'\n",
        "\n",
        "  def set_name(self,new_name):\n",
        "    self.name=new_name\n",
        "  def set_location (self, new_location):\n",
        "    self.location =new_location"
      ],
      "metadata": {
        "id": "JlK7HlaX4tzc"
      },
      "execution_count": 15,
      "outputs": []
    },
    {
      "cell_type": "code",
      "source": [
        "person=Person()\n",
        "person.set_name('yth')\n",
        "person.set_location('sankt paulsgatan')\n",
        "print('{}live in {} and works in the department {}'.format(person.name, person.location,person.department))"
      ],
      "metadata": {
        "colab": {
          "base_uri": "https://localhost:8080/"
        },
        "id": "JMBb9Gfk5svH",
        "outputId": "8cbf283f-79f3-47ab-b811-14a833293006"
      },
      "execution_count": 20,
      "outputs": [
        {
          "output_type": "stream",
          "name": "stdout",
          "text": [
            "ythlive in sankt paulsgatan and works in the department School of IT\n"
          ]
        }
      ]
    },
    {
      "cell_type": "code",
      "source": [
        "store1=[10.00,11.00,12.34,2.34]\n",
        "store2=[9.00,11.10,12.34,2.01]\n",
        "cheapest =map(min,store1,store2)\n",
        "cheapest"
      ],
      "metadata": {
        "colab": {
          "base_uri": "https://localhost:8080/"
        },
        "id": "4lGq1Tm56_hw",
        "outputId": "f8871081-6cf7-4848-9448-1cf7a68ccc38"
      },
      "execution_count": 23,
      "outputs": [
        {
          "output_type": "execute_result",
          "data": {
            "text/plain": [
              "<map at 0x7e5efed57eb0>"
            ]
          },
          "metadata": {},
          "execution_count": 23
        }
      ]
    },
    {
      "cell_type": "code",
      "source": [
        "people = ['Dr. Christopher Brooks', 'Dr. Kevyn Collins-Thompson', 'Dr. VG Vinod Vydiswaran', 'Dr. Daniel Romero']\n",
        "\n",
        "def split_title_and_name(person):\n",
        "    title = person.split()[0]\n",
        "    lastname = person.split()[-1]\n",
        "    return '{} {}'.format(title, lastname)\n",
        "\n",
        "list(map(split_title_and_name, people))\n"
      ],
      "metadata": {
        "id": "y2KFNHhY8V8l"
      },
      "execution_count": null,
      "outputs": []
    }
  ]
}